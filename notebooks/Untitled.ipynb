{
 "cells": [
  {
   "cell_type": "code",
   "execution_count": 3,
   "id": "8e01a51f",
   "metadata": {},
   "outputs": [
    {
     "data": {
      "text/plain": [
       "(410, 3)"
      ]
     },
     "execution_count": 3,
     "metadata": {},
     "output_type": "execute_result"
    }
   ],
   "source": [
    "import pandas as pd\n",
    "\n",
    "df_stations = pd.read_csv('C:\\\\Users\\\\aysha\\\\Documents\\\\Python Scripts\\\\Statistical-Modelling-Project\\\\data\\\\bike_stations.csv', index_col=0)\n",
    "df_stations.shape"
   ]
  },
  {
   "cell_type": "code",
   "execution_count": null,
   "id": "e4181d49",
   "metadata": {},
   "outputs": [],
   "source": []
  }
 ],
 "metadata": {
  "kernelspec": {
   "display_name": "Python 3 (ipykernel)",
   "language": "python",
   "name": "python3"
  },
  "language_info": {
   "codemirror_mode": {
    "name": "ipython",
    "version": 3
   },
   "file_extension": ".py",
   "mimetype": "text/x-python",
   "name": "python",
   "nbconvert_exporter": "python",
   "pygments_lexer": "ipython3",
   "version": "3.11.5"
  }
 },
 "nbformat": 4,
 "nbformat_minor": 5
}
