{
 "cells": [
  {
   "cell_type": "markdown",
   "metadata": {},
   "source": [
    "Build a regression model."
   ]
  },
  {
   "cell_type": "code",
   "execution_count": 2,
   "metadata": {},
   "outputs": [],
   "source": [
    "import numpy as np\n",
    "import matplotlib.pyplot as plt\n",
    "from sklearn.linear_model import LinearRegression\n",
    "import pandas as pd\n",
    "\n"
   ]
  },
  {
   "cell_type": "code",
   "execution_count": 4,
   "metadata": {},
   "outputs": [
    {
     "data": {
      "text/html": [
       "<div>\n",
       "<style scoped>\n",
       "    .dataframe tbody tr th:only-of-type {\n",
       "        vertical-align: middle;\n",
       "    }\n",
       "\n",
       "    .dataframe tbody tr th {\n",
       "        vertical-align: top;\n",
       "    }\n",
       "\n",
       "    .dataframe thead th {\n",
       "        text-align: right;\n",
       "    }\n",
       "</style>\n",
       "<table border=\"1\" class=\"dataframe\">\n",
       "  <thead>\n",
       "    <tr style=\"text-align: right;\">\n",
       "      <th></th>\n",
       "      <th>category_alias</th>\n",
       "      <th>category_title</th>\n",
       "      <th>poi_name</th>\n",
       "      <th>poi_distance</th>\n",
       "      <th>poi_address</th>\n",
       "      <th>poi_rating</th>\n",
       "      <th>free_bikes</th>\n",
       "      <th>station_lat</th>\n",
       "      <th>station_long</th>\n",
       "    </tr>\n",
       "  </thead>\n",
       "  <tbody>\n",
       "    <tr>\n",
       "      <th>0</th>\n",
       "      <td>mexican</td>\n",
       "      <td>Mexican</td>\n",
       "      <td>Angela's Cafe - Orient Heights</td>\n",
       "      <td>40.670336</td>\n",
       "      <td>1012 Bennington St</td>\n",
       "      <td>4.5</td>\n",
       "      <td>8.0</td>\n",
       "      <td>-71.006098</td>\n",
       "      <td>42.386781</td>\n",
       "    </tr>\n",
       "    <tr>\n",
       "      <th>1</th>\n",
       "      <td>breakfast_brunch</td>\n",
       "      <td>Breakfast &amp; Brunch</td>\n",
       "      <td>Angela's Cafe - Orient Heights</td>\n",
       "      <td>40.670336</td>\n",
       "      <td>1012 Bennington St</td>\n",
       "      <td>4.5</td>\n",
       "      <td>8.0</td>\n",
       "      <td>-71.006098</td>\n",
       "      <td>42.386781</td>\n",
       "    </tr>\n",
       "    <tr>\n",
       "      <th>2</th>\n",
       "      <td>chinese</td>\n",
       "      <td>Chinese</td>\n",
       "      <td>Little Asia Restaurant</td>\n",
       "      <td>94.503416</td>\n",
       "      <td>991 Bennington St</td>\n",
       "      <td>4.0</td>\n",
       "      <td>8.0</td>\n",
       "      <td>-71.006098</td>\n",
       "      <td>42.386781</td>\n",
       "    </tr>\n",
       "    <tr>\n",
       "      <th>3</th>\n",
       "      <td>italian</td>\n",
       "      <td>Italian</td>\n",
       "      <td>Luna's Restaurant Italian and Latin Cuisine</td>\n",
       "      <td>251.881247</td>\n",
       "      <td>945 Saratoga St</td>\n",
       "      <td>4.5</td>\n",
       "      <td>8.0</td>\n",
       "      <td>-71.006098</td>\n",
       "      <td>42.386781</td>\n",
       "    </tr>\n",
       "    <tr>\n",
       "      <th>4</th>\n",
       "      <td>latin</td>\n",
       "      <td>Latin American</td>\n",
       "      <td>Luna's Restaurant Italian and Latin Cuisine</td>\n",
       "      <td>251.881247</td>\n",
       "      <td>945 Saratoga St</td>\n",
       "      <td>4.5</td>\n",
       "      <td>8.0</td>\n",
       "      <td>-71.006098</td>\n",
       "      <td>42.386781</td>\n",
       "    </tr>\n",
       "  </tbody>\n",
       "</table>\n",
       "</div>"
      ],
      "text/plain": [
       "     category_alias      category_title  \\\n",
       "0           mexican             Mexican   \n",
       "1  breakfast_brunch  Breakfast & Brunch   \n",
       "2           chinese             Chinese   \n",
       "3           italian             Italian   \n",
       "4             latin      Latin American   \n",
       "\n",
       "                                      poi_name  poi_distance  \\\n",
       "0               Angela's Cafe - Orient Heights     40.670336   \n",
       "1               Angela's Cafe - Orient Heights     40.670336   \n",
       "2                       Little Asia Restaurant     94.503416   \n",
       "3  Luna's Restaurant Italian and Latin Cuisine    251.881247   \n",
       "4  Luna's Restaurant Italian and Latin Cuisine    251.881247   \n",
       "\n",
       "          poi_address  poi_rating  free_bikes  station_lat  station_long  \n",
       "0  1012 Bennington St         4.5         8.0   -71.006098     42.386781  \n",
       "1  1012 Bennington St         4.5         8.0   -71.006098     42.386781  \n",
       "2   991 Bennington St         4.0         8.0   -71.006098     42.386781  \n",
       "3     945 Saratoga St         4.5         8.0   -71.006098     42.386781  \n",
       "4     945 Saratoga St         4.5         8.0   -71.006098     42.386781  "
      ]
     },
     "execution_count": 4,
     "metadata": {},
     "output_type": "execute_result"
    }
   ],
   "source": [
    "combined_poi_df = pd.read_csv('C:\\\\Users\\\\aysha\\\\Documents\\\\Python Scripts\\\\Statistical-Modelling-Project\\\\data\\\\Combined_POI_data.csv', index_col=0)\n",
    "combined_poi_df.head()"
   ]
  },
  {
   "cell_type": "code",
   "execution_count": 12,
   "metadata": {},
   "outputs": [],
   "source": [
    "# Drop rows where the 'poi_rating' column is null\n",
    "analysis_df = combined_poi_df.dropna(subset=['poi_rating'])\n"
   ]
  },
  {
   "cell_type": "code",
   "execution_count": 15,
   "metadata": {},
   "outputs": [
    {
     "data": {
      "image/png": "[encoded data removed]",
      "text/plain": [
       "<Figure size 640x480 with 1 Axes>"
      ]
     },
     "metadata": {},
     "output_type": "display_data"
    }
   ],
   "source": [
    "#first build a line plot to study relationship between free bikes in a station and distance from POI\n",
    "x=analysis_df['poi_distance']\n",
    "y=analysis_df['free_bikes']\n",
    "\n",
    "# Reshape the data\n",
    "x = x.values.reshape(-1, 1)\n",
    "y = y.values.reshape(-1, 1)\n",
    "\n",
    "# Create a linear regression model\n",
    "model = LinearRegression()\n",
    "\n",
    "# Train the model\n",
    "model.fit(x, y)\n",
    "\n",
    "# Make predictions\n",
    "y_pred = model.predict(x)\n",
    "\n",
    "# Plot the data points\n",
    "plt.scatter(x, y, color='blue', label='Actual data')\n",
    "\n",
    "# Plot the linear regression line\n",
    "plt.plot(x, y_pred, color='red', linewidth=2, label='Linear regression line')\n",
    "\n",
    "# Add labels and a legend\n",
    "plt.xlabel('POI Distance')\n",
    "plt.ylabel('Free bikes')\n",
    "plt.title('Free bikes v/s POI distance relationship')\n",
    "plt.legend()\n",
    "\n",
    "# Show the plot\n",
    "plt.show()"
   ]
  },
  {
   "cell_type": "code",
   "execution_count": 16,
   "metadata": {},
   "outputs": [
    {
     "data": {
      "image/png": "[encoded data removed]",
      "text/plain": [
       "<Figure size 640x480 with 1 Axes>"
      ]
     },
     "metadata": {},
     "output_type": "display_data"
    }
   ],
   "source": [
    "#plot a line plot to study relationship between free bikes in a station and rating of POI\n",
    "x=analysis_df['poi_rating']\n",
    "y=analysis_df['free_bikes']\n",
    "\n",
    "# Reshape the data\n",
    "x = x.values.reshape(-1, 1)\n",
    "y = y.values.reshape(-1, 1)\n",
    "\n",
    "# Create a linear regression model\n",
    "model = LinearRegression()\n",
    "\n",
    "# Train the model\n",
    "model.fit(x, y)\n",
    "\n",
    "# Make predictions\n",
    "y_pred = model.predict(x)\n",
    "\n",
    "# Plot the data points\n",
    "plt.scatter(x, y, color='blue', label='Actual data')\n",
    "\n",
    "# Plot the linear regression line\n",
    "plt.plot(x, y_pred, color='red', linewidth=2, label='Linear regression line')\n",
    "\n",
    "# Add labels and a legend\n",
    "plt.xlabel('POI Rating')\n",
    "plt.ylabel('Free bikes')\n",
    "plt.title('Free bikes v/s POI rating relationship')\n",
    "plt.legend()\n",
    "\n",
    "# Show the plot\n",
    "plt.show()"
   ]
  },
  {
   "cell_type": "code",
   "execution_count": 18,
   "metadata": {},
   "outputs": [
    {
     "name": "stdout",
     "output_type": "stream",
     "text": [
      "                                 OLS Regression Results                                \n",
      "=======================================================================================\n",
      "Dep. Variable:             free_bikes   R-squared (uncentered):                   0.849\n",
      "Model:                            OLS   Adj. R-squared (uncentered):              0.848\n",
      "Method:                 Least Squares   F-statistic:                              1188.\n",
      "Date:                Sun, 10 Dec 2023   Prob (F-statistic):                    1.24e-88\n",
      "Time:                        11:06:09   Log-Likelihood:                         -513.06\n",
      "No. Observations:                 212   AIC:                                      1028.\n",
      "Df Residuals:                     211   BIC:                                      1031.\n",
      "Df Model:                           1                                                  \n",
      "Covariance Type:            nonrobust                                                  \n",
      "==============================================================================\n",
      "                 coef    std err          t      P>|t|      [0.025      0.975]\n",
      "------------------------------------------------------------------------------\n",
      "poi_rating     1.5810      0.046     34.471      0.000       1.491       1.671\n",
      "==============================================================================\n",
      "Omnibus:                       18.501   Durbin-Watson:                   0.130\n",
      "Prob(Omnibus):                  0.000   Jarque-Bera (JB):               21.439\n",
      "Skew:                          -0.779   Prob(JB):                     2.21e-05\n",
      "Kurtosis:                       3.015   Cond. No.                         1.00\n",
      "==============================================================================\n",
      "\n",
      "Notes:\n",
      "[1] R² is computed without centering (uncentered) since the model does not contain a constant.\n",
      "[2] Standard Errors assume that the covariance matrix of the errors is correctly specified.\n"
     ]
    }
   ],
   "source": [
    "#Building a linear regression model to check relationship between dependent variable \"no. of free bikes\" and POI rating\n",
    "import statsmodels.api as sm\n",
    "\n",
    "X= analysis_df\n",
    "y=analysis_df['free_bikes']\n",
    "X = sm.add_constant(X) # adding a constant\n",
    "lin_reg = sm.OLS(y,X['poi_rating'])\n",
    "\n",
    "model = lin_reg.fit()\n",
    "print_model = model.summary()\n",
    "print(print_model)"
   ]
  },
  {
   "cell_type": "code",
   "execution_count": 20,
   "metadata": {},
   "outputs": [
    {
     "name": "stdout",
     "output_type": "stream",
     "text": [
      "                                 OLS Regression Results                                \n",
      "=======================================================================================\n",
      "Dep. Variable:             free_bikes   R-squared (uncentered):                   0.469\n",
      "Model:                            OLS   Adj. R-squared (uncentered):              0.467\n",
      "Method:                 Least Squares   F-statistic:                              186.7\n",
      "Date:                Sun, 10 Dec 2023   Prob (F-statistic):                    7.24e-31\n",
      "Time:                        14:21:33   Log-Likelihood:                         -646.40\n",
      "No. Observations:                 212   AIC:                                      1295.\n",
      "Df Residuals:                     211   BIC:                                      1298.\n",
      "Df Model:                           1                                                  \n",
      "Covariance Type:            nonrobust                                                  \n",
      "================================================================================\n",
      "                   coef    std err          t      P>|t|      [0.025      0.975]\n",
      "--------------------------------------------------------------------------------\n",
      "poi_distance     0.0078      0.001     13.664      0.000       0.007       0.009\n",
      "==============================================================================\n",
      "Omnibus:                       30.385   Durbin-Watson:                   0.327\n",
      "Prob(Omnibus):                  0.000   Jarque-Bera (JB):               23.546\n",
      "Skew:                          -0.713   Prob(JB):                     7.71e-06\n",
      "Kurtosis:                       2.204   Cond. No.                         1.00\n",
      "==============================================================================\n",
      "\n",
      "Notes:\n",
      "[1] R² is computed without centering (uncentered) since the model does not contain a constant.\n",
      "[2] Standard Errors assume that the covariance matrix of the errors is correctly specified.\n"
     ]
    }
   ],
   "source": [
    "#Building a linear regression model to check relationship between dependent variable \"no. of free bikes\" and distance to POI\n",
    "import statsmodels.api as sm\n",
    "\n",
    "X= analysis_df\n",
    "y=analysis_df['free_bikes']\n",
    "X = sm.add_constant(X) # adding a constant\n",
    "lin_reg = sm.OLS(y,X['poi_distance'])\n",
    "\n",
    "model = lin_reg.fit()\n",
    "print_model = model.summary()\n",
    "print(print_model)\n"
   ]
  },
  {
   "cell_type": "code",
   "execution_count": 25,
   "metadata": {},
   "outputs": [
    {
     "name": "stdout",
     "output_type": "stream",
     "text": [
      "                            OLS Regression Results                            \n",
      "==============================================================================\n",
      "Dep. Variable:             free_bikes   R-squared:                       0.415\n",
      "Model:                            OLS   Adj. R-squared:                  0.403\n",
      "Method:                 Least Squares   F-statistic:                     36.64\n",
      "Date:                Sun, 10 Dec 2023   Prob (F-statistic):           3.79e-23\n",
      "Time:                        14:22:38   Log-Likelihood:                -431.79\n",
      "No. Observations:                 212   AIC:                             873.6\n",
      "Df Residuals:                     207   BIC:                             890.4\n",
      "Df Model:                           4                                         \n",
      "Covariance Type:            nonrobust                                         \n",
      "================================================================================\n",
      "                   coef    std err          t      P>|t|      [0.025      0.975]\n",
      "--------------------------------------------------------------------------------\n",
      "const         3.574e+04   5373.869      6.650      0.000    2.51e+04    4.63e+04\n",
      "poi_distance    -0.0018      0.000     -4.908      0.000      -0.003      -0.001\n",
      "poi_rating      -0.2235      0.208     -1.075      0.284      -0.633       0.186\n",
      "station_lat    192.9097     35.037      5.506      0.000     123.835     261.985\n",
      "station_long  -519.7756     69.197     -7.512      0.000    -656.197    -383.354\n",
      "==============================================================================\n",
      "Omnibus:                       20.719   Durbin-Watson:                   0.209\n",
      "Prob(Omnibus):                  0.000   Jarque-Bera (JB):               10.545\n",
      "Skew:                          -0.362   Prob(JB):                      0.00513\n",
      "Kurtosis:                       2.182   Cond. No.                     2.58e+07\n",
      "==============================================================================\n",
      "\n",
      "Notes:\n",
      "[1] Standard Errors assume that the covariance matrix of the errors is correctly specified.\n",
      "[2] The condition number is large, 2.58e+07. This might indicate that there are\n",
      "strong multicollinearity or other numerical problems.\n"
     ]
    }
   ],
   "source": [
    "#next try multilinear regression to check impact of multiple independent variables to number of free bikes\n",
    "import statsmodels.api as sm\n",
    "\n",
    "X= analysis_df.drop(['free_bikes','category_alias','category_title','poi_address','poi_name'], axis=1)\n",
    "y=analysis_df['free_bikes']\n",
    "X = sm.add_constant(X) # adding a constant\n",
    "lin_reg = sm.OLS(y,X)\n",
    "\n",
    "model = lin_reg.fit()\n",
    "print_model = model.summary()\n",
    "print(print_model)\n"
   ]
  },
  {
   "cell_type": "markdown",
   "metadata": {},
   "source": [
    "Provide model output and an interpretation of the results. "
   ]
  },
  {
   "cell_type": "markdown",
   "metadata": {},
   "source": [
    "*The study of relationship between free bikes in a station and rating of POI indicates that the rating of POI has a significant  impact on the number of free bikes in a bike station. The number of free bikes in a station are lower for stations that have high rating for the points of interest in its vicinity.*\n",
    "\n",
    "*With a lower regression coefficient, the study of relationship between free bikes in a station and distance from POI indicates that its a weak relationship. However, the study indicates that there are lesser bikes where POI is farther away perhaps because riders like to ride more to reach their POI*"
   ]
  },
  {
   "cell_type": "markdown",
   "metadata": {},
   "source": [
    "# Stretch"
   ]
  },
  {
   "cell_type": "markdown",
   "metadata": {},
   "source": [
    "How can you turn the regression model into a classification model?"
   ]
  },
  {
   "cell_type": "code",
   "execution_count": null,
   "metadata": {},
   "outputs": [],
   "source": []
  }
 ],
 "metadata": {
  "kernelspec": {
   "display_name": "Python 3 (ipykernel)",
   "language": "python",
   "name": "python3"
  },
  "language_info": {
   "codemirror_mode": {
    "name": "ipython",
    "version": 3
   },
   "file_extension": ".py",
   "mimetype": "text/x-python",
   "name": "python",
   "nbconvert_exporter": "python",
   "pygments_lexer": "ipython3",
   "version": "3.11.5"
  }
 },
 "nbformat": 4,
 "nbformat_minor": 4
}
