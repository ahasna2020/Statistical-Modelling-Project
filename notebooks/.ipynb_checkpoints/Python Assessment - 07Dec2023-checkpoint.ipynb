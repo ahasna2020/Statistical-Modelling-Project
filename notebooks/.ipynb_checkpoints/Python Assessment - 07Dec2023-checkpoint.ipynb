{
 "cells": [
  {
   "cell_type": "code",
   "execution_count": 1,
   "id": "d28af3c2",
   "metadata": {},
   "outputs": [],
   "source": [
    "def filter_list(lst):\n",
    "    int_list=[]\n",
    "\n",
    "    for i in lst:\n",
    "        if type(i) != str:\n",
    "            int_list.append(i)\n",
    "    \n",
    "    return int_list\n",
    "        "
   ]
  },
  {
   "cell_type": "code",
   "execution_count": 2,
   "id": "1b99bf1d",
   "metadata": {},
   "outputs": [],
   "source": [
    "filter_list([1, 2, 3, \"a\", \"b\", 4])"
   ]
  },
  {
   "cell_type": "code",
   "execution_count": 3,
   "id": "74acdbbf",
   "metadata": {},
   "outputs": [],
   "source": [
    "filter_list(['A', 0, 'Edabit', 1729, 'Python', '1729']) "
   ]
  },
  {
   "cell_type": "code",
   "execution_count": 12,
   "id": "23ff9ef2",
   "metadata": {},
   "outputs": [],
   "source": [
    "'''mean(42) ➞ 3.0\n",
    "\n",
    "    mean(12345) ➞ 3.0\n",
    "\n",
    "    mean(666) ➞ 6.0'''\n",
    "\n",
    "def mean(digits):\n",
    "    digit_array=[int(digit) for digit in str(digits)]\n",
    "    return (sum(digit_array)/len(digit_array))"
   ]
  },
  {
   "cell_type": "code",
   "execution_count": 11,
   "id": "2990035e",
   "metadata": {},
   "outputs": [
    {
     "name": "stdout",
     "output_type": "stream",
     "text": [
      "here\n",
      "[4, 2]\n",
      "3.0\n"
     ]
    }
   ],
   "source": [
    "mean(42)"
   ]
  },
  {
   "cell_type": "code",
   "execution_count": 13,
   "id": "e46eae1c",
   "metadata": {},
   "outputs": [
    {
     "data": {
      "text/plain": [
       "3.0"
      ]
     },
     "execution_count": 13,
     "metadata": {},
     "output_type": "execute_result"
    }
   ],
   "source": [
    "mean(12345)"
   ]
  },
  {
   "cell_type": "code",
   "execution_count": 14,
   "id": "80086621",
   "metadata": {},
   "outputs": [
    {
     "data": {
      "text/plain": [
       "6.0"
      ]
     },
     "execution_count": 14,
     "metadata": {},
     "output_type": "execute_result"
    }
   ],
   "source": [
    "mean(666)"
   ]
  },
  {
   "cell_type": "code",
   "execution_count": 27,
   "id": "7464089c",
   "metadata": {},
   "outputs": [],
   "source": [
    "\"\"\"\n",
    "Write a function that takes a string and calculates the number of letters and digits within it. Return the result in a dictionary.\n",
    "\n",
    "Examples:\n",
    "    count_all(\"Hello World\") ➞ { \"LETTERS\":  10, \"DIGITS\": 0 }\n",
    "\n",
    "    count_all(\"H3ll0 Wor1d\") ➞ { \"LETTERS\":  7, \"DIGITS\": 3 }\n",
    "\n",
    "    count_all(\"149990\") ➞ { \"LETTERS\": 0, \"DIGITS\": 6 }\n",
    "\n",
    "Notes:\n",
    "    - Tests contain only alphanumeric characters.\n",
    "    - Spaces are not letters.\n",
    "    - All tests contain valid strings.\n",
    "    - The function should return dictionary\n",
    "\n",
    "\"\"\"\n",
    "\n",
    "def count_all(string):\n",
    "    letter_cnt=digit_cnt=0\n",
    "    \n",
    "    split_str_array=[char for char in string]\n",
    "    #print (split_str_array)\n",
    "    for i in split_str_array:\n",
    "        if i in ['1','2','3','4','5','6','7','8','9','0']:\n",
    "            digit_cnt+=1\n",
    "        elif type(i) == str:\n",
    "            if i != \" \":\n",
    "                letter_cnt+=1\n",
    "        \n",
    "    \n",
    "    #print(letter_cnt)\n",
    "    #print(digit_cnt)\n",
    "    \n",
    "    ret_dict={\"LETTERS\":  letter_cnt, \"DIGITS\": digit_cnt }\n",
    "    \n",
    "    return(ret_dict)\n",
    "    "
   ]
  },
  {
   "cell_type": "code",
   "execution_count": 28,
   "id": "abdd07b1",
   "metadata": {},
   "outputs": [
    {
     "name": "stdout",
     "output_type": "stream",
     "text": [
      "['H', 'e', 'l', 'l', 'o', ' ', 'W', 'o', 'r', 'l', 'd']\n",
      "10\n",
      "0\n",
      "{'LETTERS': 10, 'DIGITS': 0}\n"
     ]
    }
   ],
   "source": [
    "count_all(\"Hello World\")\n"
   ]
  },
  {
   "cell_type": "code",
   "execution_count": 29,
   "id": "6cb45f4c",
   "metadata": {},
   "outputs": [
    {
     "name": "stdout",
     "output_type": "stream",
     "text": [
      "['H', '3', 'l', 'l', '0', ' ', 'W', 'o', 'r', '1', 'd']\n",
      "7\n",
      "3\n",
      "{'LETTERS': 7, 'DIGITS': 3}\n"
     ]
    }
   ],
   "source": [
    "count_all(\"H3ll0 Wor1d\")"
   ]
  },
  {
   "cell_type": "code",
   "execution_count": 30,
   "id": "7c283f9c",
   "metadata": {},
   "outputs": [
    {
     "name": "stdout",
     "output_type": "stream",
     "text": [
      "['1', '4', '9', '9', '9', '0']\n",
      "0\n",
      "6\n",
      "{'LETTERS': 0, 'DIGITS': 6}\n"
     ]
    }
   ],
   "source": [
    "count_all(\"149990\")"
   ]
  },
  {
   "cell_type": "code",
   "execution_count": 40,
   "id": "60b79f83",
   "metadata": {},
   "outputs": [
    {
     "name": "stdout",
     "output_type": "stream",
     "text": [
      "Connection to SQLite DB successful\n",
      "Query executed successfully\n"
     ]
    }
   ],
   "source": [
    "\"\"\"\n",
    " - Connect to the hr.db (stored in supporting-files directory) with sqlite3 \n",
    " - Write a query to get the names (first_name, last_name), salary, \n",
    " PF of all the employees (PF is calculated as 12% of salary)\n",
    "\n",
    "Expected columns:\n",
    "    - first_name\t\n",
    "    - last_name\t\n",
    "    - salary\n",
    "    - PF\n",
    "\n",
    "Notes:\n",
    "    - You can connect to DB from Jupyter Lab/Notebook, explore the table and try different queries\n",
    "    - In the variable 'SQL' store only the final query ready for validation \n",
    "\"\"\"\n",
    "\n",
    "\n",
    "#SQL = \"IMPLEMENT ME\"\n",
    "\n",
    "import sqlite3\n",
    "from sqlite3 import Error\n",
    "\n",
    "#function to create connection\n",
    "def create_connection(path):\n",
    "    connection = None\n",
    "    try:\n",
    "        connection = sqlite3.connect(path)\n",
    "        print(\"Connection to SQLite DB successful\")\n",
    "    except Error as e:\n",
    "        print(f\"The error '{e}' occurred\")\n",
    "\n",
    "    return connection\n",
    "\n",
    "connection = create_connection('C:\\\\Users\\\\aysha\\\\Documents\\\\Python Scripts\\\\assessment-exam-student-python\\\\supporting_files\\\\hr.db')\n",
    "\n",
    "\n",
    "#function to run queries using connections created and read query passed as argument\n",
    "def execute_read_query(connection, query):\n",
    "    cursor = connection.cursor()\n",
    "    result = None\n",
    "    try:\n",
    "        cursor.execute(query)\n",
    "        result = cursor.fetchall()\n",
    "        print('here')\n",
    "        for row in result:\n",
    "            print(row)\n",
    "        return result\n",
    "    except Error as e:\n",
    "        print(f\"The error '{e}' occurred\")\n",
    " \n",
    "#select_sql =\"\"\"\n",
    "#select first_name, last_name, salary, (0.12)*salary as PF from employees\n",
    "#\"\"\"\n",
    "\n",
    "select_emp_dep=\"\"\"select first_name, last_name, department_id from employees where department_id in (3,10)\"\"\"\n",
    "\n",
    "\n",
    "emp_data=execute_query(connection, select_sql)  \n",
    "\n"
   ]
  },
  {
   "cell_type": "code",
   "execution_count": 36,
   "id": "bdae291c",
   "metadata": {},
   "outputs": [
    {
     "ename": "TypeError",
     "evalue": "object of type 'NoneType' has no len()",
     "output_type": "error",
     "traceback": [
      "\u001b[1;31m---------------------------------------------------------------------------\u001b[0m",
      "\u001b[1;31mTypeError\u001b[0m                                 Traceback (most recent call last)",
      "Cell \u001b[1;32mIn[36], line 1\u001b[0m\n\u001b[1;32m----> 1\u001b[0m \u001b[38;5;28mlen\u001b[39m(emp_data)\n",
      "\u001b[1;31mTypeError\u001b[0m: object of type 'NoneType' has no len()"
     ]
    }
   ],
   "source": [
    "len(emp_data)"
   ]
  },
  {
   "cell_type": "code",
   "execution_count": null,
   "id": "2e91ee24",
   "metadata": {},
   "outputs": [],
   "source": []
  }
 ],
 "metadata": {
  "kernelspec": {
   "display_name": "Python 3 (ipykernel)",
   "language": "python",
   "name": "python3"
  },
  "language_info": {
   "codemirror_mode": {
    "name": "ipython",
    "version": 3
   },
   "file_extension": ".py",
   "mimetype": "text/x-python",
   "name": "python",
   "nbconvert_exporter": "python",
   "pygments_lexer": "ipython3",
   "version": "3.11.5"
  }
 },
 "nbformat": 4,
 "nbformat_minor": 5
}
