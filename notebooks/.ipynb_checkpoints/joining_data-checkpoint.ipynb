{
 "cells": [
  {
   "cell_type": "markdown",
   "metadata": {},
   "source": [
    "Join the data from Part 1 with the data from Part 2 to create a new dataframe."
   ]
  },
  {
   "cell_type": "code",
   "execution_count": 58,
   "metadata": {},
   "outputs": [
    {
     "data": {
      "text/html": [
       "<div>\n",
       "<style scoped>\n",
       "    .dataframe tbody tr th:only-of-type {\n",
       "        vertical-align: middle;\n",
       "    }\n",
       "\n",
       "    .dataframe tbody tr th {\n",
       "        vertical-align: top;\n",
       "    }\n",
       "\n",
       "    .dataframe thead th {\n",
       "        text-align: right;\n",
       "    }\n",
       "</style>\n",
       "<table border=\"1\" class=\"dataframe\">\n",
       "  <thead>\n",
       "    <tr style=\"text-align: right;\">\n",
       "      <th></th>\n",
       "      <th>alias</th>\n",
       "      <th>title</th>\n",
       "      <th>poi_id</th>\n",
       "      <th>poi_name</th>\n",
       "      <th>poi_distance</th>\n",
       "      <th>poi_location.address1</th>\n",
       "      <th>poi_rating</th>\n",
       "      <th>free_bikes</th>\n",
       "      <th>station_lat</th>\n",
       "      <th>station_long</th>\n",
       "    </tr>\n",
       "  </thead>\n",
       "  <tbody>\n",
       "    <tr>\n",
       "      <th>0</th>\n",
       "      <td>mexican</td>\n",
       "      <td>Mexican</td>\n",
       "      <td>gjWtb3F23YxfYvRHWbvWWA</td>\n",
       "      <td>Angela's Cafe - Orient Heights</td>\n",
       "      <td>40.670336</td>\n",
       "      <td>1012 Bennington St</td>\n",
       "      <td>4.5</td>\n",
       "      <td>8.0</td>\n",
       "      <td>-71.006098</td>\n",
       "      <td>42.386781</td>\n",
       "    </tr>\n",
       "    <tr>\n",
       "      <th>1</th>\n",
       "      <td>breakfast_brunch</td>\n",
       "      <td>Breakfast &amp; Brunch</td>\n",
       "      <td>gjWtb3F23YxfYvRHWbvWWA</td>\n",
       "      <td>Angela's Cafe - Orient Heights</td>\n",
       "      <td>40.670336</td>\n",
       "      <td>1012 Bennington St</td>\n",
       "      <td>4.5</td>\n",
       "      <td>8.0</td>\n",
       "      <td>-71.006098</td>\n",
       "      <td>42.386781</td>\n",
       "    </tr>\n",
       "    <tr>\n",
       "      <th>2</th>\n",
       "      <td>italian</td>\n",
       "      <td>Italian</td>\n",
       "      <td>Zm29bLI2eYCevnse4n2U1g</td>\n",
       "      <td>Luna's Restaurant Italian and Latin Cuisine</td>\n",
       "      <td>251.881247</td>\n",
       "      <td>945 Saratoga St</td>\n",
       "      <td>4.5</td>\n",
       "      <td>8.0</td>\n",
       "      <td>-71.006098</td>\n",
       "      <td>42.386781</td>\n",
       "    </tr>\n",
       "    <tr>\n",
       "      <th>3</th>\n",
       "      <td>latin</td>\n",
       "      <td>Latin American</td>\n",
       "      <td>Zm29bLI2eYCevnse4n2U1g</td>\n",
       "      <td>Luna's Restaurant Italian and Latin Cuisine</td>\n",
       "      <td>251.881247</td>\n",
       "      <td>945 Saratoga St</td>\n",
       "      <td>4.5</td>\n",
       "      <td>8.0</td>\n",
       "      <td>-71.006098</td>\n",
       "      <td>42.386781</td>\n",
       "    </tr>\n",
       "    <tr>\n",
       "      <th>4</th>\n",
       "      <td>bars</td>\n",
       "      <td>Bars</td>\n",
       "      <td>Zm29bLI2eYCevnse4n2U1g</td>\n",
       "      <td>Luna's Restaurant Italian and Latin Cuisine</td>\n",
       "      <td>251.881247</td>\n",
       "      <td>945 Saratoga St</td>\n",
       "      <td>4.5</td>\n",
       "      <td>8.0</td>\n",
       "      <td>-71.006098</td>\n",
       "      <td>42.386781</td>\n",
       "    </tr>\n",
       "  </tbody>\n",
       "</table>\n",
       "</div>"
      ],
      "text/plain": [
       "              alias               title                  poi_id  \\\n",
       "0           mexican             Mexican  gjWtb3F23YxfYvRHWbvWWA   \n",
       "1  breakfast_brunch  Breakfast & Brunch  gjWtb3F23YxfYvRHWbvWWA   \n",
       "2           italian             Italian  Zm29bLI2eYCevnse4n2U1g   \n",
       "3             latin      Latin American  Zm29bLI2eYCevnse4n2U1g   \n",
       "4              bars                Bars  Zm29bLI2eYCevnse4n2U1g   \n",
       "\n",
       "                                      poi_name  poi_distance  \\\n",
       "0               Angela's Cafe - Orient Heights     40.670336   \n",
       "1               Angela's Cafe - Orient Heights     40.670336   \n",
       "2  Luna's Restaurant Italian and Latin Cuisine    251.881247   \n",
       "3  Luna's Restaurant Italian and Latin Cuisine    251.881247   \n",
       "4  Luna's Restaurant Italian and Latin Cuisine    251.881247   \n",
       "\n",
       "  poi_location.address1  poi_rating  free_bikes  station_lat  station_long  \n",
       "0    1012 Bennington St         4.5         8.0   -71.006098     42.386781  \n",
       "1    1012 Bennington St         4.5         8.0   -71.006098     42.386781  \n",
       "2       945 Saratoga St         4.5         8.0   -71.006098     42.386781  \n",
       "3       945 Saratoga St         4.5         8.0   -71.006098     42.386781  \n",
       "4       945 Saratoga St         4.5         8.0   -71.006098     42.386781  "
      ]
     },
     "execution_count": 58,
     "metadata": {},
     "output_type": "execute_result"
    }
   ],
   "source": [
    "import pandas as pd\n",
    "\n",
    "# Read Foursquare and Yelp data saved from \"yelp_foursquare_EDA\" notebook into a dataframe\n",
    "FSQ_df = pd.read_csv('C:\\\\Users\\\\aysha\\\\Documents\\\\Python Scripts\\\\Statistical-Modelling-Project\\\\data\\\\FSQ_data.csv', index_col=0)\n",
    "FSQ_df.head()\n",
    "\n",
    "\n",
    "yelp_df = pd.read_csv('C:\\\\Users\\\\aysha\\\\Documents\\\\Python Scripts\\\\Statistical-Modelling-Project\\\\data\\\\Yelp_data.csv', index_col=0)\n",
    "yelp_df.head()"
   ]
  },
  {
   "cell_type": "code",
   "execution_count": 59,
   "metadata": {},
   "outputs": [],
   "source": [
    "#rename columns to meaningful names\n",
    "yelp_df.rename(columns = {'alias':'category_alias', 'title':'category_title'}, inplace = True) "
   ]
  },
  {
   "cell_type": "code",
   "execution_count": 60,
   "metadata": {},
   "outputs": [],
   "source": [
    "combined_df=yelp_df[['category_alias','category_title','poi_name','poi_distance','poi_location.address1','poi_rating','free_bikes','station_lat','station_long']]\n",
    "\n",
    "combined_df.rename(columns = {'poi_location.address1':'poi_address'}, inplace = True) \n"
   ]
  },
  {
   "cell_type": "code",
   "execution_count": 61,
   "metadata": {},
   "outputs": [],
   "source": [
    "fsq_subset_df = FSQ_df[['short_name','name','poi_name','poi_distance','poi_location.address','free_bikes','station_lat','station_long']]\n",
    "#fsq_subset_df\n",
    "\n",
    "#rename columns to match final joined dataset\n",
    "fsq_subset_df.rename(columns = {'short_name':'category_alias', 'name':'category_title','poi_location.address':'poi_address'}, inplace = True) \n",
    "\n",
    "combined_df=pd.concat([combined_df, fsq_subset_df], ignore_index = True)"
   ]
  },
  {
   "cell_type": "markdown",
   "metadata": {},
   "source": [
    "Provide a visualization that you used as part of your EDA process. Explain the initial pattern or relationship you discoved through this visualization. "
   ]
  },
  {
   "cell_type": "code",
   "execution_count": 62,
   "metadata": {},
   "outputs": [
    {
     "name": "stdout",
     "output_type": "stream",
     "text": [
      "<class 'pandas.core.frame.DataFrame'>\n",
      "RangeIndex: 26060 entries, 0 to 26059\n",
      "Data columns (total 9 columns):\n",
      " #   Column          Non-Null Count  Dtype  \n",
      "---  ------          --------------  -----  \n",
      " 0   category_alias  26060 non-null  object \n",
      " 1   category_title  26060 non-null  object \n",
      " 2   poi_name        26060 non-null  object \n",
      " 3   poi_distance    26060 non-null  float64\n",
      " 4   poi_address     25711 non-null  object \n",
      " 5   poi_rating      18905 non-null  float64\n",
      " 6   free_bikes      26060 non-null  float64\n",
      " 7   station_lat     26060 non-null  float64\n",
      " 8   station_long    26060 non-null  float64\n",
      "dtypes: float64(5), object(4)\n",
      "memory usage: 1.8+ MB\n"
     ]
    }
   ],
   "source": [
    "import pandas as pd\n",
    "import numpy as np\n",
    "import seaborn as sns\n",
    "import matplotlib.pyplot as plt\n",
    "import statsmodels.api as sm\n",
    "import warnings\n",
    "warnings.filterwarnings(\"ignore\")\n",
    "\n",
    "combined_df.info()"
   ]
  },
  {
   "cell_type": "code",
   "execution_count": 63,
   "metadata": {},
   "outputs": [
    {
     "data": {
      "text/html": [
       "<div>\n",
       "<style scoped>\n",
       "    .dataframe tbody tr th:only-of-type {\n",
       "        vertical-align: middle;\n",
       "    }\n",
       "\n",
       "    .dataframe tbody tr th {\n",
       "        vertical-align: top;\n",
       "    }\n",
       "\n",
       "    .dataframe thead th {\n",
       "        text-align: right;\n",
       "    }\n",
       "</style>\n",
       "<table border=\"1\" class=\"dataframe\">\n",
       "  <thead>\n",
       "    <tr style=\"text-align: right;\">\n",
       "      <th></th>\n",
       "      <th>poi_distance</th>\n",
       "      <th>poi_rating</th>\n",
       "      <th>free_bikes</th>\n",
       "      <th>station_lat</th>\n",
       "      <th>station_long</th>\n",
       "    </tr>\n",
       "  </thead>\n",
       "  <tbody>\n",
       "    <tr>\n",
       "      <th>count</th>\n",
       "      <td>26060.000000</td>\n",
       "      <td>18905.000000</td>\n",
       "      <td>26060.000000</td>\n",
       "      <td>26060.000000</td>\n",
       "      <td>26060.000000</td>\n",
       "    </tr>\n",
       "    <tr>\n",
       "      <th>mean</th>\n",
       "      <td>673.416866</td>\n",
       "      <td>4.039540</td>\n",
       "      <td>8.517268</td>\n",
       "      <td>-71.083426</td>\n",
       "      <td>42.362872</td>\n",
       "    </tr>\n",
       "    <tr>\n",
       "      <th>std</th>\n",
       "      <td>2360.768165</td>\n",
       "      <td>0.481277</td>\n",
       "      <td>6.209096</td>\n",
       "      <td>0.050445</td>\n",
       "      <td>0.043837</td>\n",
       "    </tr>\n",
       "    <tr>\n",
       "      <th>min</th>\n",
       "      <td>4.000000</td>\n",
       "      <td>1.000000</td>\n",
       "      <td>0.000000</td>\n",
       "      <td>-71.213822</td>\n",
       "      <td>42.255600</td>\n",
       "    </tr>\n",
       "    <tr>\n",
       "      <th>25%</th>\n",
       "      <td>239.000000</td>\n",
       "      <td>4.000000</td>\n",
       "      <td>3.000000</td>\n",
       "      <td>-71.111337</td>\n",
       "      <td>42.341356</td>\n",
       "    </tr>\n",
       "    <tr>\n",
       "      <th>50%</th>\n",
       "      <td>446.986663</td>\n",
       "      <td>4.000000</td>\n",
       "      <td>8.000000</td>\n",
       "      <td>-71.087567</td>\n",
       "      <td>42.361257</td>\n",
       "    </tr>\n",
       "    <tr>\n",
       "      <th>75%</th>\n",
       "      <td>769.381407</td>\n",
       "      <td>4.500000</td>\n",
       "      <td>12.000000</td>\n",
       "      <td>-71.063187</td>\n",
       "      <td>42.381001</td>\n",
       "    </tr>\n",
       "    <tr>\n",
       "      <th>max</th>\n",
       "      <td>86568.563935</td>\n",
       "      <td>5.000000</td>\n",
       "      <td>39.000000</td>\n",
       "      <td>-70.886930</td>\n",
       "      <td>42.529900</td>\n",
       "    </tr>\n",
       "  </tbody>\n",
       "</table>\n",
       "</div>"
      ],
      "text/plain": [
       "       poi_distance    poi_rating    free_bikes   station_lat  station_long\n",
       "count  26060.000000  18905.000000  26060.000000  26060.000000  26060.000000\n",
       "mean     673.416866      4.039540      8.517268    -71.083426     42.362872\n",
       "std     2360.768165      0.481277      6.209096      0.050445      0.043837\n",
       "min        4.000000      1.000000      0.000000    -71.213822     42.255600\n",
       "25%      239.000000      4.000000      3.000000    -71.111337     42.341356\n",
       "50%      446.986663      4.000000      8.000000    -71.087567     42.361257\n",
       "75%      769.381407      4.500000     12.000000    -71.063187     42.381001\n",
       "max    86568.563935      5.000000     39.000000    -70.886930     42.529900"
      ]
     },
     "execution_count": 63,
     "metadata": {},
     "output_type": "execute_result"
    }
   ],
   "source": [
    "combined_df.describe()"
   ]
  },
  {
   "cell_type": "code",
   "execution_count": 64,
   "metadata": {},
   "outputs": [
    {
     "data": {
      "text/plain": [
       "(26060, 9)"
      ]
     },
     "execution_count": 64,
     "metadata": {},
     "output_type": "execute_result"
    }
   ],
   "source": [
    "combined_df.shape"
   ]
  },
  {
   "cell_type": "code",
   "execution_count": 65,
   "metadata": {},
   "outputs": [
    {
     "data": {
      "text/plain": [
       "poi_rating        27.46\n",
       "poi_address        1.34\n",
       "category_alias     0.00\n",
       "category_title     0.00\n",
       "poi_name           0.00\n",
       "poi_distance       0.00\n",
       "free_bikes         0.00\n",
       "station_lat        0.00\n",
       "station_long       0.00\n",
       "dtype: float64"
      ]
     },
     "execution_count": 65,
     "metadata": {},
     "output_type": "execute_result"
    }
   ],
   "source": [
    "# percentage of missing values in each column\n",
    "round(100 * (combined_df.isnull().sum()/len(combined_df)),2).sort_values(ascending=False)"
   ]
  },
  {
   "cell_type": "code",
   "execution_count": 67,
   "metadata": {},
   "outputs": [
    {
     "data": {
      "text/plain": [
       "7155"
      ]
     },
     "execution_count": 67,
     "metadata": {},
     "output_type": "execute_result"
    }
   ],
   "source": [
    "combined_df['poi_rating'].isnull().sum()"
   ]
  },
  {
   "cell_type": "code",
   "execution_count": 69,
   "metadata": {},
   "outputs": [],
   "source": [
    "# Drop rows where the 'poi_rating' column is null\n",
    "combined_df = combined_df.dropna(subset=['poi_rating'])"
   ]
  },
  {
   "cell_type": "code",
   "execution_count": 71,
   "metadata": {},
   "outputs": [
    {
     "name": "stdout",
     "output_type": "stream",
     "text": [
      "(18905, 9)\n"
     ]
    },
    {
     "data": {
      "text/plain": [
       "poi_address       1.3\n",
       "category_alias    0.0\n",
       "category_title    0.0\n",
       "poi_name          0.0\n",
       "poi_distance      0.0\n",
       "poi_rating        0.0\n",
       "free_bikes        0.0\n",
       "station_lat       0.0\n",
       "station_long      0.0\n",
       "dtype: float64"
      ]
     },
     "execution_count": 71,
     "metadata": {},
     "output_type": "execute_result"
    }
   ],
   "source": [
    "print(combined_df.shape)\n",
    "\n",
    "# percentage of missing values in each column again\n",
    "round(100 * (combined_df.isnull().sum()/len(combined_df)),2).sort_values(ascending=False)\n",
    "\n",
    "#poi_address has some null values but it is not relevant very relevant for the analysis"
   ]
  },
  {
   "cell_type": "code",
   "execution_count": 72,
   "metadata": {},
   "outputs": [
    {
     "data": {
      "text/plain": [
       "(18905, 9)"
      ]
     },
     "execution_count": 72,
     "metadata": {},
     "output_type": "execute_result"
    }
   ],
   "source": [
    "#duplicate check\n",
    "combined_df_d=combined_df.copy()\n",
    "combined_df_d.drop_duplicates(subset=None, inplace=True)\n",
    "combined_df_d.shape\n",
    "#same record count, no duplicates found"
   ]
  },
  {
   "cell_type": "code",
   "execution_count": 73,
   "metadata": {},
   "outputs": [
    {
     "data": {
      "text/plain": [
       "(18905, 9)"
      ]
     },
     "execution_count": 73,
     "metadata": {},
     "output_type": "execute_result"
    }
   ],
   "source": [
    "combined_df.shape"
   ]
  },
  {
   "cell_type": "code",
   "execution_count": 74,
   "metadata": {},
   "outputs": [],
   "source": [
    "analysis_df=combined_df[['poi_name','poi_address','poi_distance','poi_rating','free_bikes','category_alias','category_title']]"
   ]
  },
  {
   "cell_type": "code",
   "execution_count": 52,
   "metadata": {},
   "outputs": [
    {
     "data": {
      "image/png": "[encoded data removed]",
      "text/plain": [
       "<Figure size 2000x2000 with 7 Axes>"
      ]
     },
     "metadata": {},
     "output_type": "display_data"
    }
   ],
   "source": [
    "def draw_histograms(dataframe, features, rows, cols):\n",
    "    fig=plt.figure(figsize=(20,20))\n",
    "    for i, feature in enumerate(features):\n",
    "        ax=fig.add_subplot(rows,cols,i+1)\n",
    "        dataframe[feature].hist(bins=20,ax=ax,facecolor='midnightblue')\n",
    "        ax.set_title(feature+\" Distribution\",color='DarkRed')\n",
    "        ax.set_yscale('log')\n",
    "    fig.tight_layout()  \n",
    "    plt.show()\n",
    "draw_histograms(analysis_df,analysis_df.columns,5,3)"
   ]
  },
  {
   "cell_type": "code",
   "execution_count": 75,
   "metadata": {},
   "outputs": [],
   "source": [
    "#save the final combined dataset into a csv file\n",
    "\n",
    "combined_df.to_csv('C:\\\\Users\\\\aysha\\\\Documents\\\\Python Scripts\\\\Statistical-Modelling-Project\\\\data\\\\Combined_POI_data.csv')"
   ]
  },
  {
   "cell_type": "markdown",
   "metadata": {},
   "source": [
    "# Database"
   ]
  },
  {
   "cell_type": "markdown",
   "metadata": {},
   "source": [
    "Put all your results in an SQLite3 database (remember, SQLite stores its databases as files in your local machine - make sure to create your database in your project's data/ directory!)"
   ]
  },
  {
   "cell_type": "code",
   "execution_count": 76,
   "metadata": {},
   "outputs": [
    {
     "name": "stdout",
     "output_type": "stream",
     "text": [
      "Connection to SQLite DB successful\n"
     ]
    }
   ],
   "source": [
    "import sqlite3\n",
    "from sqlite3 import Error\n",
    "\n",
    "#function to create connection\n",
    "def create_connection(path):\n",
    "    connection = None\n",
    "    try:\n",
    "        connection = sqlite3.connect(path)\n",
    "        print(\"Connection to SQLite DB successful\")\n",
    "    except Error as e:\n",
    "        print(f\"The error '{e}' occurred\")\n",
    "\n",
    "    return connection\n",
    "\n",
    "connection = create_connection('C:\\\\Users\\\\aysha\\\\Documents\\\\Python Scripts\\\\Statistical-Modelling-Project\\\\data\\\\BikesharePOI.db')"
   ]
  },
  {
   "cell_type": "markdown",
   "metadata": {},
   "source": [
    "Look at the data before and after the join to validate your data."
   ]
  },
  {
   "cell_type": "code",
   "execution_count": 77,
   "metadata": {},
   "outputs": [
    {
     "name": "stdout",
     "output_type": "stream",
     "text": [
      "Query executed successfully\n"
     ]
    }
   ],
   "source": [
    "create_table_sql = \"\"\"\n",
    "CREATE TABLE IF NOT EXISTS poi_data (\n",
    "  category_alias  TEXT,\n",
    "  category_title TEXT,\n",
    "  poi_name TEXT,\n",
    "  poi_distance FLOAT,\n",
    "  poi_address  TEXT,\n",
    "  poi_rating   FLOAT,\n",
    "  free_bikes   FLOAT,\n",
    "  station_lat  FLOAT,\n",
    "  station_long FLOAT\n",
    ");\n",
    "\"\"\"\n",
    "\n",
    "#function to run queries using connections created and query passed as argument\n",
    "def execute_query(connection, query):\n",
    "    cursor = connection.cursor()\n",
    "    try:\n",
    "        cursor.execute(query)\n",
    "        connection.commit()\n",
    "        print(\"Query executed successfully\")\n",
    "    except Error as e:\n",
    "        print(f\"The error '{e}' occurred\")\n",
    "        \n",
    "execute_query(connection, create_table_sql)  "
   ]
  },
  {
   "cell_type": "code",
   "execution_count": 78,
   "metadata": {},
   "outputs": [
    {
     "data": {
      "text/plain": [
       "18905"
      ]
     },
     "execution_count": 78,
     "metadata": {},
     "output_type": "execute_result"
    }
   ],
   "source": [
    "combined_df.to_sql(name=\"poi_data\",con=connection,if_exists='replace',index=False)"
   ]
  },
  {
   "cell_type": "code",
   "execution_count": 36,
   "metadata": {},
   "outputs": [
    {
     "data": {
      "text/html": [
       "<div>\n",
       "<style scoped>\n",
       "    .dataframe tbody tr th:only-of-type {\n",
       "        vertical-align: middle;\n",
       "    }\n",
       "\n",
       "    .dataframe tbody tr th {\n",
       "        vertical-align: top;\n",
       "    }\n",
       "\n",
       "    .dataframe thead th {\n",
       "        text-align: right;\n",
       "    }\n",
       "</style>\n",
       "<table border=\"1\" class=\"dataframe\">\n",
       "  <thead>\n",
       "    <tr style=\"text-align: right;\">\n",
       "      <th></th>\n",
       "      <th>category_alias</th>\n",
       "      <th>category_title</th>\n",
       "      <th>poi_name</th>\n",
       "      <th>poi_distance</th>\n",
       "      <th>poi_address</th>\n",
       "      <th>poi_rating</th>\n",
       "      <th>free_bikes</th>\n",
       "      <th>station_lat</th>\n",
       "      <th>station_long</th>\n",
       "    </tr>\n",
       "  </thead>\n",
       "  <tbody>\n",
       "    <tr>\n",
       "      <th>0</th>\n",
       "      <td>mexican</td>\n",
       "      <td>Mexican</td>\n",
       "      <td>Angela's Cafe - Orient Heights</td>\n",
       "      <td>40.670336</td>\n",
       "      <td>1012 Bennington St</td>\n",
       "      <td>4.5</td>\n",
       "      <td>NaN</td>\n",
       "      <td>NaN</td>\n",
       "      <td>NaN</td>\n",
       "    </tr>\n",
       "    <tr>\n",
       "      <th>1</th>\n",
       "      <td>breakfast_brunch</td>\n",
       "      <td>Breakfast &amp; Brunch</td>\n",
       "      <td>Angela's Cafe - Orient Heights</td>\n",
       "      <td>40.670336</td>\n",
       "      <td>1012 Bennington St</td>\n",
       "      <td>4.5</td>\n",
       "      <td>NaN</td>\n",
       "      <td>NaN</td>\n",
       "      <td>NaN</td>\n",
       "    </tr>\n",
       "    <tr>\n",
       "      <th>2</th>\n",
       "      <td>chinese</td>\n",
       "      <td>Chinese</td>\n",
       "      <td>Little Asia Restaurant</td>\n",
       "      <td>94.503416</td>\n",
       "      <td>991 Bennington St</td>\n",
       "      <td>4.0</td>\n",
       "      <td>NaN</td>\n",
       "      <td>NaN</td>\n",
       "      <td>NaN</td>\n",
       "    </tr>\n",
       "    <tr>\n",
       "      <th>3</th>\n",
       "      <td>italian</td>\n",
       "      <td>Italian</td>\n",
       "      <td>Luna's Restaurant Italian and Latin Cuisine</td>\n",
       "      <td>251.881247</td>\n",
       "      <td>945 Saratoga St</td>\n",
       "      <td>4.5</td>\n",
       "      <td>NaN</td>\n",
       "      <td>NaN</td>\n",
       "      <td>NaN</td>\n",
       "    </tr>\n",
       "    <tr>\n",
       "      <th>4</th>\n",
       "      <td>latin</td>\n",
       "      <td>Latin American</td>\n",
       "      <td>Luna's Restaurant Italian and Latin Cuisine</td>\n",
       "      <td>251.881247</td>\n",
       "      <td>945 Saratoga St</td>\n",
       "      <td>4.5</td>\n",
       "      <td>NaN</td>\n",
       "      <td>NaN</td>\n",
       "      <td>NaN</td>\n",
       "    </tr>\n",
       "  </tbody>\n",
       "</table>\n",
       "</div>"
      ],
      "text/plain": [
       "     category_alias      category_title  \\\n",
       "0           mexican             Mexican   \n",
       "1  breakfast_brunch  Breakfast & Brunch   \n",
       "2           chinese             Chinese   \n",
       "3           italian             Italian   \n",
       "4             latin      Latin American   \n",
       "\n",
       "                                      poi_name  poi_distance  \\\n",
       "0               Angela's Cafe - Orient Heights     40.670336   \n",
       "1               Angela's Cafe - Orient Heights     40.670336   \n",
       "2                       Little Asia Restaurant     94.503416   \n",
       "3  Luna's Restaurant Italian and Latin Cuisine    251.881247   \n",
       "4  Luna's Restaurant Italian and Latin Cuisine    251.881247   \n",
       "\n",
       "          poi_address  poi_rating  free_bikes  station_lat  station_long  \n",
       "0  1012 Bennington St         4.5         NaN          NaN           NaN  \n",
       "1  1012 Bennington St         4.5         NaN          NaN           NaN  \n",
       "2   991 Bennington St         4.0         NaN          NaN           NaN  \n",
       "3     945 Saratoga St         4.5         NaN          NaN           NaN  \n",
       "4     945 Saratoga St         4.5         NaN          NaN           NaN  "
      ]
     },
     "execution_count": 36,
     "metadata": {},
     "output_type": "execute_result"
    }
   ],
   "source": [
    "combined_df.head()"
   ]
  },
  {
   "cell_type": "code",
   "execution_count": null,
   "metadata": {},
   "outputs": [],
   "source": []
  }
 ],
 "metadata": {
  "kernelspec": {
   "display_name": "Python 3 (ipykernel)",
   "language": "python",
   "name": "python3"
  },
  "language_info": {
   "codemirror_mode": {
    "name": "ipython",
    "version": 3
   },
   "file_extension": ".py",
   "mimetype": "text/x-python",
   "name": "python",
   "nbconvert_exporter": "python",
   "pygments_lexer": "ipython3",
   "version": "3.11.5"
  }
 },
 "nbformat": 4,
 "nbformat_minor": 4
}
