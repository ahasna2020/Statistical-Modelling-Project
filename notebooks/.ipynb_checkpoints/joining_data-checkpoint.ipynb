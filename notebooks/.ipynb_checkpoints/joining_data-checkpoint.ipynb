{
 "cells": [
  {
   "cell_type": "markdown",
   "metadata": {},
   "source": [
    "Join the data from Part 1 with the data from Part 2 to create a new dataframe."
   ]
  },
  {
   "cell_type": "code",
   "execution_count": 7,
   "metadata": {},
   "outputs": [
    {
     "data": {
      "text/html": [
       "<div>\n",
       "<style scoped>\n",
       "    .dataframe tbody tr th:only-of-type {\n",
       "        vertical-align: middle;\n",
       "    }\n",
       "\n",
       "    .dataframe tbody tr th {\n",
       "        vertical-align: top;\n",
       "    }\n",
       "\n",
       "    .dataframe thead th {\n",
       "        text-align: right;\n",
       "    }\n",
       "</style>\n",
       "<table border=\"1\" class=\"dataframe\">\n",
       "  <thead>\n",
       "    <tr style=\"text-align: right;\">\n",
       "      <th></th>\n",
       "      <th>alias</th>\n",
       "      <th>title</th>\n",
       "      <th>poi_id</th>\n",
       "      <th>poi_name</th>\n",
       "      <th>poi_distance</th>\n",
       "      <th>poi_location.address1</th>\n",
       "      <th>poi_rating</th>\n",
       "      <th>free_bikes</th>\n",
       "      <th>station_lat</th>\n",
       "      <th>station_long</th>\n",
       "    </tr>\n",
       "  </thead>\n",
       "  <tbody>\n",
       "    <tr>\n",
       "      <th>0</th>\n",
       "      <td>mexican</td>\n",
       "      <td>Mexican</td>\n",
       "      <td>gjWtb3F23YxfYvRHWbvWWA</td>\n",
       "      <td>Angela's Cafe - Orient Heights</td>\n",
       "      <td>40.670336</td>\n",
       "      <td>1012 Bennington St</td>\n",
       "      <td>4.5</td>\n",
       "      <td>8.0</td>\n",
       "      <td>-71.006098</td>\n",
       "      <td>42.386781</td>\n",
       "    </tr>\n",
       "    <tr>\n",
       "      <th>1</th>\n",
       "      <td>breakfast_brunch</td>\n",
       "      <td>Breakfast &amp; Brunch</td>\n",
       "      <td>gjWtb3F23YxfYvRHWbvWWA</td>\n",
       "      <td>Angela's Cafe - Orient Heights</td>\n",
       "      <td>40.670336</td>\n",
       "      <td>1012 Bennington St</td>\n",
       "      <td>4.5</td>\n",
       "      <td>8.0</td>\n",
       "      <td>-71.006098</td>\n",
       "      <td>42.386781</td>\n",
       "    </tr>\n",
       "    <tr>\n",
       "      <th>2</th>\n",
       "      <td>chinese</td>\n",
       "      <td>Chinese</td>\n",
       "      <td>nwU1tKh-D68B7Z44DbDwXg</td>\n",
       "      <td>Little Asia Restaurant</td>\n",
       "      <td>94.503416</td>\n",
       "      <td>991 Bennington St</td>\n",
       "      <td>4.0</td>\n",
       "      <td>8.0</td>\n",
       "      <td>-71.006098</td>\n",
       "      <td>42.386781</td>\n",
       "    </tr>\n",
       "    <tr>\n",
       "      <th>3</th>\n",
       "      <td>italian</td>\n",
       "      <td>Italian</td>\n",
       "      <td>Zm29bLI2eYCevnse4n2U1g</td>\n",
       "      <td>Luna's Restaurant Italian and Latin Cuisine</td>\n",
       "      <td>251.881247</td>\n",
       "      <td>945 Saratoga St</td>\n",
       "      <td>4.5</td>\n",
       "      <td>8.0</td>\n",
       "      <td>-71.006098</td>\n",
       "      <td>42.386781</td>\n",
       "    </tr>\n",
       "    <tr>\n",
       "      <th>4</th>\n",
       "      <td>latin</td>\n",
       "      <td>Latin American</td>\n",
       "      <td>Zm29bLI2eYCevnse4n2U1g</td>\n",
       "      <td>Luna's Restaurant Italian and Latin Cuisine</td>\n",
       "      <td>251.881247</td>\n",
       "      <td>945 Saratoga St</td>\n",
       "      <td>4.5</td>\n",
       "      <td>8.0</td>\n",
       "      <td>-71.006098</td>\n",
       "      <td>42.386781</td>\n",
       "    </tr>\n",
       "  </tbody>\n",
       "</table>\n",
       "</div>"
      ],
      "text/plain": [
       "              alias               title                  poi_id  \\\n",
       "0           mexican             Mexican  gjWtb3F23YxfYvRHWbvWWA   \n",
       "1  breakfast_brunch  Breakfast & Brunch  gjWtb3F23YxfYvRHWbvWWA   \n",
       "2           chinese             Chinese  nwU1tKh-D68B7Z44DbDwXg   \n",
       "3           italian             Italian  Zm29bLI2eYCevnse4n2U1g   \n",
       "4             latin      Latin American  Zm29bLI2eYCevnse4n2U1g   \n",
       "\n",
       "                                      poi_name  poi_distance  \\\n",
       "0               Angela's Cafe - Orient Heights     40.670336   \n",
       "1               Angela's Cafe - Orient Heights     40.670336   \n",
       "2                       Little Asia Restaurant     94.503416   \n",
       "3  Luna's Restaurant Italian and Latin Cuisine    251.881247   \n",
       "4  Luna's Restaurant Italian and Latin Cuisine    251.881247   \n",
       "\n",
       "  poi_location.address1  poi_rating  free_bikes  station_lat  station_long  \n",
       "0    1012 Bennington St         4.5         8.0   -71.006098     42.386781  \n",
       "1    1012 Bennington St         4.5         8.0   -71.006098     42.386781  \n",
       "2     991 Bennington St         4.0         8.0   -71.006098     42.386781  \n",
       "3       945 Saratoga St         4.5         8.0   -71.006098     42.386781  \n",
       "4       945 Saratoga St         4.5         8.0   -71.006098     42.386781  "
      ]
     },
     "execution_count": 7,
     "metadata": {},
     "output_type": "execute_result"
    }
   ],
   "source": [
    "import pandas as pd\n",
    "\n",
    "# Read Foursquare and Yelp data saved from \"yelp_foursquare_EDA\" notebook into a dataframe\n",
    "FSQ_df = pd.read_csv('C:\\\\Users\\\\aysha\\\\Documents\\\\Python Scripts\\\\Statistical-Modelling-Project\\\\data\\\\FSQ_data.csv', index_col=0)\n",
    "FSQ_df.head()\n",
    "\n",
    "\n",
    "yelp_df = pd.read_csv('C:\\\\Users\\\\aysha\\\\Documents\\\\Python Scripts\\\\Statistical-Modelling-Project\\\\data\\\\Yelp_data.csv', index_col=0)\n",
    "yelp_df.head()"
   ]
  },
  {
   "cell_type": "code",
   "execution_count": 8,
   "metadata": {},
   "outputs": [],
   "source": [
    "#rename columns to meaningful names\n",
    "yelp_df.rename(columns = {'alias':'category_alias', 'title':'category_title'}, inplace = True) "
   ]
  },
  {
   "cell_type": "code",
   "execution_count": 3,
   "metadata": {},
   "outputs": [
    {
     "name": "stderr",
     "output_type": "stream",
     "text": [
      "C:\\Users\\aysha\\AppData\\Local\\Temp\\ipykernel_40048\\527735785.py:3: SettingWithCopyWarning: \n",
      "A value is trying to be set on a copy of a slice from a DataFrame\n",
      "\n",
      "See the caveats in the documentation: https://pandas.pydata.org/pandas-docs/stable/user_guide/indexing.html#returning-a-view-versus-a-copy\n",
      "  combined_df.rename(columns = {'poi_location.address1':'poi_address'}, inplace = True)\n"
     ]
    }
   ],
   "source": [
    "combined_df=yelp_df[['category_alias','category_title','poi_name','poi_distance','poi_location.address1','poi_rating','free_bikes','station_lat','station_long']]\n",
    "\n",
    "combined_df.rename(columns = {'poi_location.address1':'poi_address'}, inplace = True) \n"
   ]
  },
  {
   "cell_type": "code",
   "execution_count": 9,
   "metadata": {},
   "outputs": [
    {
     "name": "stderr",
     "output_type": "stream",
     "text": [
      "C:\\Users\\aysha\\AppData\\Local\\Temp\\ipykernel_40048\\353309240.py:5: SettingWithCopyWarning: \n",
      "A value is trying to be set on a copy of a slice from a DataFrame\n",
      "\n",
      "See the caveats in the documentation: https://pandas.pydata.org/pandas-docs/stable/user_guide/indexing.html#returning-a-view-versus-a-copy\n",
      "  fsq_subset_df.rename(columns = {'short_name':'category_alias', 'name':'category_title','poi_location.address':'poi_address'}, inplace = True)\n"
     ]
    }
   ],
   "source": [
    "fsq_subset_df = FSQ_df[['short_name','name','poi_name','poi_distance','poi_location.address','free_bikes','station_lat','station_long']]\n",
    "#fsq_subset_df\n",
    "\n",
    "#rename columns to match final joined dataset\n",
    "fsq_subset_df.rename(columns = {'short_name':'category_alias', 'name':'category_title','poi_location.address':'poi_address'}, inplace = True) \n",
    "\n",
    "combined_df=pd.concat([combined_df, fsq_subset_df], ignore_index = True)"
   ]
  },
  {
   "cell_type": "markdown",
   "metadata": {},
   "source": [
    "Provide a visualization that you used as part of your EDA process. Explain the initial pattern or relationship you discoved through this visualization. "
   ]
  },
  {
   "cell_type": "code",
   "execution_count": 14,
   "metadata": {},
   "outputs": [
    {
     "name": "stdout",
     "output_type": "stream",
     "text": [
      "<class 'pandas.core.frame.DataFrame'>\n",
      "RangeIndex: 368 entries, 0 to 367\n",
      "Data columns (total 9 columns):\n",
      " #   Column          Non-Null Count  Dtype  \n",
      "---  ------          --------------  -----  \n",
      " 0   category_alias  368 non-null    object \n",
      " 1   category_title  368 non-null    object \n",
      " 2   poi_name        368 non-null    object \n",
      " 3   poi_distance    368 non-null    float64\n",
      " 4   poi_address     366 non-null    object \n",
      " 5   poi_rating      212 non-null    float64\n",
      " 6   free_bikes      78 non-null     float64\n",
      " 7   station_lat     78 non-null     float64\n",
      " 8   station_long    78 non-null     float64\n",
      "dtypes: float64(5), object(4)\n",
      "memory usage: 26.0+ KB\n"
     ]
    }
   ],
   "source": [
    "import pandas as pd\n",
    "import numpy as np\n",
    "import seaborn as sns\n",
    "import matplotlib.pyplot as plt\n",
    "import statsmodels.api as sm\n",
    "import warnings\n",
    "warnings.filterwarnings(\"ignore\")\n",
    "\n",
    "combined_df.info()"
   ]
  },
  {
   "cell_type": "code",
   "execution_count": 15,
   "metadata": {},
   "outputs": [
    {
     "data": {
      "text/html": [
       "<div>\n",
       "<style scoped>\n",
       "    .dataframe tbody tr th:only-of-type {\n",
       "        vertical-align: middle;\n",
       "    }\n",
       "\n",
       "    .dataframe tbody tr th {\n",
       "        vertical-align: top;\n",
       "    }\n",
       "\n",
       "    .dataframe thead th {\n",
       "        text-align: right;\n",
       "    }\n",
       "</style>\n",
       "<table border=\"1\" class=\"dataframe\">\n",
       "  <thead>\n",
       "    <tr style=\"text-align: right;\">\n",
       "      <th></th>\n",
       "      <th>poi_distance</th>\n",
       "      <th>poi_rating</th>\n",
       "      <th>free_bikes</th>\n",
       "      <th>station_lat</th>\n",
       "      <th>station_long</th>\n",
       "    </tr>\n",
       "  </thead>\n",
       "  <tbody>\n",
       "    <tr>\n",
       "      <th>count</th>\n",
       "      <td>368.000000</td>\n",
       "      <td>212.000000</td>\n",
       "      <td>78.000000</td>\n",
       "      <td>78.000000</td>\n",
       "      <td>78.000000</td>\n",
       "    </tr>\n",
       "    <tr>\n",
       "      <th>mean</th>\n",
       "      <td>415.975085</td>\n",
       "      <td>4.030660</td>\n",
       "      <td>6.820513</td>\n",
       "      <td>-71.029513</td>\n",
       "      <td>42.375703</td>\n",
       "    </tr>\n",
       "    <tr>\n",
       "      <th>std</th>\n",
       "      <td>307.030993</td>\n",
       "      <td>0.664077</td>\n",
       "      <td>2.306082</td>\n",
       "      <td>0.014439</td>\n",
       "      <td>0.007429</td>\n",
       "    </tr>\n",
       "    <tr>\n",
       "      <th>min</th>\n",
       "      <td>40.670336</td>\n",
       "      <td>1.000000</td>\n",
       "      <td>2.000000</td>\n",
       "      <td>-71.041020</td>\n",
       "      <td>42.368844</td>\n",
       "    </tr>\n",
       "    <tr>\n",
       "      <th>25%</th>\n",
       "      <td>194.000000</td>\n",
       "      <td>4.000000</td>\n",
       "      <td>7.000000</td>\n",
       "      <td>-71.039778</td>\n",
       "      <td>42.369536</td>\n",
       "    </tr>\n",
       "    <tr>\n",
       "      <th>50%</th>\n",
       "      <td>362.000000</td>\n",
       "      <td>4.000000</td>\n",
       "      <td>7.000000</td>\n",
       "      <td>-71.039431</td>\n",
       "      <td>42.373312</td>\n",
       "    </tr>\n",
       "    <tr>\n",
       "      <th>75%</th>\n",
       "      <td>504.000000</td>\n",
       "      <td>4.500000</td>\n",
       "      <td>8.000000</td>\n",
       "      <td>-71.016191</td>\n",
       "      <td>42.383533</td>\n",
       "    </tr>\n",
       "    <tr>\n",
       "      <th>max</th>\n",
       "      <td>1369.377311</td>\n",
       "      <td>5.000000</td>\n",
       "      <td>9.000000</td>\n",
       "      <td>-71.006098</td>\n",
       "      <td>42.386781</td>\n",
       "    </tr>\n",
       "  </tbody>\n",
       "</table>\n",
       "</div>"
      ],
      "text/plain": [
       "       poi_distance  poi_rating  free_bikes  station_lat  station_long\n",
       "count    368.000000  212.000000   78.000000    78.000000     78.000000\n",
       "mean     415.975085    4.030660    6.820513   -71.029513     42.375703\n",
       "std      307.030993    0.664077    2.306082     0.014439      0.007429\n",
       "min       40.670336    1.000000    2.000000   -71.041020     42.368844\n",
       "25%      194.000000    4.000000    7.000000   -71.039778     42.369536\n",
       "50%      362.000000    4.000000    7.000000   -71.039431     42.373312\n",
       "75%      504.000000    4.500000    8.000000   -71.016191     42.383533\n",
       "max     1369.377311    5.000000    9.000000   -71.006098     42.386781"
      ]
     },
     "execution_count": 15,
     "metadata": {},
     "output_type": "execute_result"
    }
   ],
   "source": [
    "combined_df.describe()"
   ]
  },
  {
   "cell_type": "code",
   "execution_count": 16,
   "metadata": {},
   "outputs": [
    {
     "data": {
      "text/plain": [
       "(368, 9)"
      ]
     },
     "execution_count": 16,
     "metadata": {},
     "output_type": "execute_result"
    }
   ],
   "source": [
    "combined_df.shape"
   ]
  },
  {
   "cell_type": "code",
   "execution_count": 26,
   "metadata": {},
   "outputs": [
    {
     "data": {
      "text/plain": [
       "free_bikes        78.80\n",
       "station_lat       78.80\n",
       "station_long      78.80\n",
       "poi_rating        42.39\n",
       "poi_address        0.54\n",
       "category_alias     0.00\n",
       "category_title     0.00\n",
       "poi_name           0.00\n",
       "poi_distance       0.00\n",
       "dtype: float64"
      ]
     },
     "execution_count": 26,
     "metadata": {},
     "output_type": "execute_result"
    }
   ],
   "source": [
    "# percentage of missing values in each column\n",
    "round(100 * (combined_df.isnull().sum()/len(combined_df)),2).sort_values(ascending=False)"
   ]
  },
  {
   "cell_type": "code",
   "execution_count": null,
   "metadata": {},
   "outputs": [],
   "source": [
    "#duplicate check\n",
    "combined_df_d=combined_df.copy()\n",
    "combined_df_d.drop_duplicates(subset=None, inplace=True)\n",
    "combined_df_d.shape\n",
    "#same record count, no duplicates found"
   ]
  },
  {
   "cell_type": "code",
   "execution_count": 27,
   "metadata": {},
   "outputs": [],
   "source": []
  },
  {
   "cell_type": "code",
   "execution_count": 30,
   "metadata": {},
   "outputs": [],
   "source": [
    "analysis_df=combined_df[['poi_name','poi_address','poi_distance','poi_rating','free_bikes','category_alias','category_title']]"
   ]
  },
  {
   "cell_type": "code",
   "execution_count": 32,
   "metadata": {},
   "outputs": [
    {
     "data": {
      "image/png": "[encoded data removed]",
      "text/plain": [
       "<Figure size 2000x2000 with 7 Axes>"
      ]
     },
     "metadata": {},
     "output_type": "display_data"
    }
   ],
   "source": [
    "def draw_histograms(dataframe, features, rows, cols):\n",
    "    fig=plt.figure(figsize=(20,20))\n",
    "    for i, feature in enumerate(features):\n",
    "        ax=fig.add_subplot(rows,cols,i+1)\n",
    "        dataframe[feature].hist(bins=20,ax=ax,facecolor='midnightblue')\n",
    "        ax.set_title(feature+\" Distribution\",color='DarkRed')\n",
    "        ax.set_yscale('log')\n",
    "    fig.tight_layout()  \n",
    "    plt.show()\n",
    "draw_histograms(analysis_df,analysis_df.columns,5,3)"
   ]
  },
  {
   "cell_type": "code",
   "execution_count": 25,
   "metadata": {},
   "outputs": [
    {
     "data": {
      "text/plain": [
       "category_alias\n",
       "seafood             18\n",
       "italian             17\n",
       "mexican             16\n",
       "Park                14\n",
       "breakfast_brunch    11\n",
       "                    ..\n",
       "convenience          1\n",
       "hotdog               1\n",
       "dominican            1\n",
       "localflavor          1\n",
       "empanadas            1\n",
       "Name: count, Length: 88, dtype: int64"
      ]
     },
     "execution_count": 25,
     "metadata": {},
     "output_type": "execute_result"
    }
   ],
   "source": [
    "#save the final combined dataset into a csv file\n",
    "\n",
    "combined_df.to_csv('C:\\\\Users\\\\aysha\\\\Documents\\\\Python Scripts\\\\Statistical-Modelling-Project\\\\data\\\\Combined_POI_data.csv')"
   ]
  },
  {
   "cell_type": "markdown",
   "metadata": {},
   "source": [
    "# Database"
   ]
  },
  {
   "cell_type": "markdown",
   "metadata": {},
   "source": [
    "Put all your results in an SQLite3 database (remember, SQLite stores its databases as files in your local machine - make sure to create your database in your project's data/ directory!)"
   ]
  },
  {
   "cell_type": "code",
   "execution_count": 33,
   "metadata": {},
   "outputs": [
    {
     "name": "stdout",
     "output_type": "stream",
     "text": [
      "Connection to SQLite DB successful\n"
     ]
    }
   ],
   "source": [
    "import sqlite3\n",
    "from sqlite3 import Error\n",
    "\n",
    "#function to create connection\n",
    "def create_connection(path):\n",
    "    connection = None\n",
    "    try:\n",
    "        connection = sqlite3.connect(path)\n",
    "        print(\"Connection to SQLite DB successful\")\n",
    "    except Error as e:\n",
    "        print(f\"The error '{e}' occurred\")\n",
    "\n",
    "    return connection\n",
    "\n",
    "connection = create_connection('C:\\\\Users\\\\aysha\\\\Documents\\\\Python Scripts\\\\Statistical-Modelling-Project\\\\data\\\\BikesharePOI.db')"
   ]
  },
  {
   "cell_type": "markdown",
   "metadata": {},
   "source": [
    "Look at the data before and after the join to validate your data."
   ]
  },
  {
   "cell_type": "code",
   "execution_count": 34,
   "metadata": {},
   "outputs": [
    {
     "name": "stdout",
     "output_type": "stream",
     "text": [
      "Query executed successfully\n"
     ]
    }
   ],
   "source": [
    "create_table_sql = \"\"\"\n",
    "CREATE TABLE IF NOT EXISTS poi_data (\n",
    "  category_alias  TEXT,\n",
    "  category_title TEXT,\n",
    "  poi_name TEXT,\n",
    "  poi_distance FLOAT,\n",
    "  poi_address  TEXT,\n",
    "  poi_rating   FLOAT,\n",
    "  free_bikes   FLOAT,\n",
    "  station_lat  FLOAT,\n",
    "  station_long FLOAT\n",
    ");\n",
    "\"\"\"\n",
    "\n",
    "#function to run queries using connections created and query passed as argument\n",
    "def execute_query(connection, query):\n",
    "    cursor = connection.cursor()\n",
    "    try:\n",
    "        cursor.execute(query)\n",
    "        connection.commit()\n",
    "        print(\"Query executed successfully\")\n",
    "    except Error as e:\n",
    "        print(f\"The error '{e}' occurred\")\n",
    "        \n",
    "execute_query(connection, create_table_sql)  "
   ]
  },
  {
   "cell_type": "code",
   "execution_count": 35,
   "metadata": {},
   "outputs": [
    {
     "data": {
      "text/plain": [
       "368"
      ]
     },
     "execution_count": 35,
     "metadata": {},
     "output_type": "execute_result"
    }
   ],
   "source": [
    "combined_df.to_sql(name=\"poi_data\",con=connection,if_exists='replace',index=False)"
   ]
  },
  {
   "cell_type": "code",
   "execution_count": 36,
   "metadata": {},
   "outputs": [
    {
     "data": {
      "text/html": [
       "<div>\n",
       "<style scoped>\n",
       "    .dataframe tbody tr th:only-of-type {\n",
       "        vertical-align: middle;\n",
       "    }\n",
       "\n",
       "    .dataframe tbody tr th {\n",
       "        vertical-align: top;\n",
       "    }\n",
       "\n",
       "    .dataframe thead th {\n",
       "        text-align: right;\n",
       "    }\n",
       "</style>\n",
       "<table border=\"1\" class=\"dataframe\">\n",
       "  <thead>\n",
       "    <tr style=\"text-align: right;\">\n",
       "      <th></th>\n",
       "      <th>category_alias</th>\n",
       "      <th>category_title</th>\n",
       "      <th>poi_name</th>\n",
       "      <th>poi_distance</th>\n",
       "      <th>poi_address</th>\n",
       "      <th>poi_rating</th>\n",
       "      <th>free_bikes</th>\n",
       "      <th>station_lat</th>\n",
       "      <th>station_long</th>\n",
       "    </tr>\n",
       "  </thead>\n",
       "  <tbody>\n",
       "    <tr>\n",
       "      <th>0</th>\n",
       "      <td>mexican</td>\n",
       "      <td>Mexican</td>\n",
       "      <td>Angela's Cafe - Orient Heights</td>\n",
       "      <td>40.670336</td>\n",
       "      <td>1012 Bennington St</td>\n",
       "      <td>4.5</td>\n",
       "      <td>NaN</td>\n",
       "      <td>NaN</td>\n",
       "      <td>NaN</td>\n",
       "    </tr>\n",
       "    <tr>\n",
       "      <th>1</th>\n",
       "      <td>breakfast_brunch</td>\n",
       "      <td>Breakfast &amp; Brunch</td>\n",
       "      <td>Angela's Cafe - Orient Heights</td>\n",
       "      <td>40.670336</td>\n",
       "      <td>1012 Bennington St</td>\n",
       "      <td>4.5</td>\n",
       "      <td>NaN</td>\n",
       "      <td>NaN</td>\n",
       "      <td>NaN</td>\n",
       "    </tr>\n",
       "    <tr>\n",
       "      <th>2</th>\n",
       "      <td>chinese</td>\n",
       "      <td>Chinese</td>\n",
       "      <td>Little Asia Restaurant</td>\n",
       "      <td>94.503416</td>\n",
       "      <td>991 Bennington St</td>\n",
       "      <td>4.0</td>\n",
       "      <td>NaN</td>\n",
       "      <td>NaN</td>\n",
       "      <td>NaN</td>\n",
       "    </tr>\n",
       "    <tr>\n",
       "      <th>3</th>\n",
       "      <td>italian</td>\n",
       "      <td>Italian</td>\n",
       "      <td>Luna's Restaurant Italian and Latin Cuisine</td>\n",
       "      <td>251.881247</td>\n",
       "      <td>945 Saratoga St</td>\n",
       "      <td>4.5</td>\n",
       "      <td>NaN</td>\n",
       "      <td>NaN</td>\n",
       "      <td>NaN</td>\n",
       "    </tr>\n",
       "    <tr>\n",
       "      <th>4</th>\n",
       "      <td>latin</td>\n",
       "      <td>Latin American</td>\n",
       "      <td>Luna's Restaurant Italian and Latin Cuisine</td>\n",
       "      <td>251.881247</td>\n",
       "      <td>945 Saratoga St</td>\n",
       "      <td>4.5</td>\n",
       "      <td>NaN</td>\n",
       "      <td>NaN</td>\n",
       "      <td>NaN</td>\n",
       "    </tr>\n",
       "  </tbody>\n",
       "</table>\n",
       "</div>"
      ],
      "text/plain": [
       "     category_alias      category_title  \\\n",
       "0           mexican             Mexican   \n",
       "1  breakfast_brunch  Breakfast & Brunch   \n",
       "2           chinese             Chinese   \n",
       "3           italian             Italian   \n",
       "4             latin      Latin American   \n",
       "\n",
       "                                      poi_name  poi_distance  \\\n",
       "0               Angela's Cafe - Orient Heights     40.670336   \n",
       "1               Angela's Cafe - Orient Heights     40.670336   \n",
       "2                       Little Asia Restaurant     94.503416   \n",
       "3  Luna's Restaurant Italian and Latin Cuisine    251.881247   \n",
       "4  Luna's Restaurant Italian and Latin Cuisine    251.881247   \n",
       "\n",
       "          poi_address  poi_rating  free_bikes  station_lat  station_long  \n",
       "0  1012 Bennington St         4.5         NaN          NaN           NaN  \n",
       "1  1012 Bennington St         4.5         NaN          NaN           NaN  \n",
       "2   991 Bennington St         4.0         NaN          NaN           NaN  \n",
       "3     945 Saratoga St         4.5         NaN          NaN           NaN  \n",
       "4     945 Saratoga St         4.5         NaN          NaN           NaN  "
      ]
     },
     "execution_count": 36,
     "metadata": {},
     "output_type": "execute_result"
    }
   ],
   "source": [
    "combined_df.head()"
   ]
  },
  {
   "cell_type": "code",
   "execution_count": null,
   "metadata": {},
   "outputs": [],
   "source": []
  }
 ],
 "metadata": {
  "kernelspec": {
   "display_name": "Python 3 (ipykernel)",
   "language": "python",
   "name": "python3"
  },
  "language_info": {
   "codemirror_mode": {
    "name": "ipython",
    "version": 3
   },
   "file_extension": ".py",
   "mimetype": "text/x-python",
   "name": "python",
   "nbconvert_exporter": "python",
   "pygments_lexer": "ipython3",
   "version": "3.11.5"
  }
 },
 "nbformat": 4,
 "nbformat_minor": 4
}
